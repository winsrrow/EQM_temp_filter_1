{
 "cells": [
  {
   "attachments": {},
   "cell_type": "markdown",
   "metadata": {},
   "source": [
    "# Código de ayuda para el cálculo de los valores de la placa."
   ]
  },
  {
   "cell_type": "code",
   "execution_count": 25,
   "metadata": {},
   "outputs": [],
   "source": [
    "Meg = 1e6\n",
    "k = 1e3\n",
    "m = 1e-3\n",
    "u = 1e-6\n",
    "n = 1e-9\n",
    "\n",
    "\n",
    "def R_Led(v_led:float, i_led:float, v_in:float)->float:\n",
    "    \"\"\"Función para el cálculo de la resistencia en serie para el led.\n",
    "\n",
    "    Args:\n",
    "        V_led (float): Vf del led.                En Voltios.\n",
    "        i_led (float): Corriente directa del led. En mA.\n",
    "        v_in (float) : Tensión de alimentación.   En Voltios.\n",
    "\n",
    "    Returns:\n",
    "        float: Valor de la resistencia en ohmios.\n",
    "    \"\"\"\n",
    "    return (v_in - v_led)*1000/i_led\n",
    "\n",
    "def R_div(v_in:float, v_out:float, r2:float)->float:\n",
    "    \"\"\"Función que calcula el valor de R1 en función de Vin, Vout y R2 en un divisor de tensión estandar.\n",
    "\n",
    "    Args:\n",
    "        v_in (float) : Tensión entre bornes del divisor.        En Voltios.\n",
    "        v_out (float): Tensión deseada en el nodo del divisor.  En Voltios.\n",
    "        r2 (float)   : Resistencia inferior del divisor.        En Ohmios.\n",
    "\n",
    "    Returns:\n",
    "        float: Valor de la resistencia superior del divisor de tensión. En Ohmios.\n",
    "    \"\"\"\n",
    "    if v_out > v_in:\n",
    "        return -1\n",
    "\n",
    "    return r2*(v_in/v_out -1)\n",
    "    \n",
    "\n",
    "def RC_timeConstant(r:float, c:float)->float:\n",
    "    \"\"\"Función para calcular la constante de tiempo de un RC\n",
    "\n",
    "    Args:\n",
    "        r (float): Valor de la resistencia en ohmios.\n",
    "        c (float): Valor del condensador en faradios.\n",
    "\n",
    "    Returns:\n",
    "        float: Constante de tiempo en segundos.\n",
    "    \"\"\"\n",
    "    \n",
    "    return r*c\n",
    "\n"
   ]
  },
  {
   "cell_type": "code",
   "execution_count": 35,
   "metadata": {},
   "outputs": [
    {
     "name": "stdout",
     "output_type": "stream",
     "text": [
      "RC timeconstant (100nF, 10K): 0.001 seg\n"
     ]
    }
   ],
   "source": [
    "# \n",
    "# print(R_Led(1.8+1.1, 5, 10))    # Leds rojos de la entrada.\n",
    "# print(R_Led(2.4, 5, 10))        # Leds verdes de la entrada.\n",
    "# print(R_Led(2.4, 5, 5))        # Leds verdes de la entrada.\n",
    "# \n",
    "\n",
    "print(f\"RC timeconstant (100nF, 10K): {RC_timeConstant(100*n, 10*k)} seg\")\n"
   ]
  }
 ],
 "metadata": {
  "kernelspec": {
   "display_name": "Python 3",
   "language": "python",
   "name": "python3"
  },
  "language_info": {
   "codemirror_mode": {
    "name": "ipython",
    "version": 3
   },
   "file_extension": ".py",
   "mimetype": "text/x-python",
   "name": "python",
   "nbconvert_exporter": "python",
   "pygments_lexer": "ipython3",
   "version": "3.11.2"
  },
  "orig_nbformat": 4
 },
 "nbformat": 4,
 "nbformat_minor": 2
}
